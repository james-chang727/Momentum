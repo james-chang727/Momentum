{
 "cells": [
  {
   "cell_type": "markdown",
   "source": [
    "**Momentum Strategy**\n",
    "\n",
    "This strategy analyzes the Taiwan 50 index and finds the Top10 and Worse10 performing stocks for the past year.\n",
    "\n",
    "The portfolio is then back-tested with the nearest half year performance"
   ],
   "metadata": {
    "collapsed": false,
    "pycharm": {
     "name": "#%% md\n"
    }
   }
  },
  {
   "cell_type": "code",
   "execution_count": 1,
   "outputs": [],
   "source": [
    "import pandas as pd\n",
    "import eikon as ek\n",
    "ek.set_app_key('bf38826c5e014c1cadf21425ee6e417d2b72fc9a')"
   ],
   "metadata": {
    "collapsed": false,
    "pycharm": {
     "name": "#%%\n"
    }
   }
  },
  {
   "cell_type": "code",
   "execution_count": 2,
   "outputs": [
    {
     "data": {
      "text/plain": "['2330.TW',\n '2317.TW',\n '2454.TW',\n '2412.TW',\n '1301.TW',\n '3008.TW',\n '2891.TW',\n '1303.TW',\n '2308.TW',\n '2882.TW',\n '1216.TW',\n '2886.TW',\n '2881.TW',\n '2884.TW',\n '1326.TW',\n '2002.TW',\n '3711.TW',\n '2892.TW',\n '2207.TW',\n '1101.TW',\n '2885.TW',\n '5880.TW',\n '2382.TW',\n '2327.TW',\n '2880.TW',\n '3045.TW',\n '2303.TW',\n '2912.TW',\n '2474.TW',\n '2357.TW',\n '5871.TW',\n '5876.TW',\n '4938.TW',\n '2887.TW',\n '2883.TW',\n '2801.TW',\n '6505.TW',\n '2890.TW',\n '2395.TW',\n '1402.TW',\n '4904.TW',\n '2888.TW',\n '1102.TW',\n '2301.TW',\n '2633.TW',\n '6669.TW',\n '9910.TW',\n '2823.TW',\n '2105.TW',\n '2408.TW']"
     },
     "execution_count": 2,
     "metadata": {},
     "output_type": "execute_result"
    }
   ],
   "source": [
    "# Read in the RICs that we wish to analyze for our momentum strategy\n",
    "holdings_list = list(pd.read_excel('data/Yuanta Taiwan 50 ETF Holdings.xlsx',usecols='A', name='RIC', skiprows=16)['RIC'])\n",
    "holdings_list"
   ],
   "metadata": {
    "collapsed": false,
    "pycharm": {
     "name": "#%%\n"
    }
   }
  },
  {
   "cell_type": "code",
   "execution_count": 3,
   "outputs": [
    {
     "name": "stderr",
     "output_type": "stream",
     "text": [
      "c:\\users\\user\\appdata\\local\\programs\\python\\python37-32\\lib\\site-packages\\eikon\\data_grid.py:247: FutureWarning: The pandas.np module is deprecated and will be removed from pandas in a future version. Import numpy directly instead\n",
      "  data = pd.np.array([[get_data_value(value) for value in row] for row in data_dict['data']])\n"
     ]
    },
    {
     "data": {
      "text/plain": "                                    Company Common Name  Total Return\nInstrument                                                           \n2207.TW                              Hotai Motor Co Ltd    178.340081\n6669.TW                                     Wiwynn Corp    134.851663\n2454.TW                                    MediaTek Inc    105.965741\n2408.TW                           Nanya Technology Corp     75.144440\n2327.TW                                      Yageo Corp     68.640499\n3008.TW                         LARGAN Precision Co Ltd     67.301380\n2330.TW       Taiwan Semiconductor Manufacturing Co Ltd     61.972705\n2303.TW                    United Microelectronics Corp     55.381432\n1102.TW                                Asia Cement Corp     54.117185\n2884.TW                  E.SUN Financial Holding Co Ltd     52.695654\n3711.TW                   ASE Technology Holding Co Ltd     52.046849\n5871.TW                   Chailease Holding Company Ltd     48.844651\n4938.TW                                   Pegatron Corp     46.052391\n2395.TW                                Advantech Co Ltd     45.209966\n1101.TW                              Taiwan Cement Corp     43.957017\n2885.TW                Yuanta Financial Holdings Co Ltd     39.595312\n2801.TW                   Chang Hwa Commercial Bank Ltd     39.046978\n5876.TW          Shanghai Commercial & Savings Bank Ltd     38.060861\n2880.TW               Hua Nan Financial Holdings Co Ltd     36.834319\n2317.TW               Hon Hai Precision Industry Co Ltd     36.121063\n2890.TW               Sinopac Financial Holdings Co Ltd     35.035573\n2382.TW                             Quanta Computer Inc     30.372374\n2633.TW                     Taiwan High Speed Rail Corp     30.021093\n2301.TW                         Lite-On Technology Corp     29.252210\n2886.TW                   Mega Financial Holding Co Ltd     27.284059\n5880.TW     Taiwan Cooperative Financial Holding Co Ltd     26.529982\n2892.TW                  First Financial Holding Co Ltd     26.448324\n2308.TW                           Delta Electronics Inc     22.733045\n2888.TW              Shin Kong Financial Holding Co Ltd     22.217374\n2357.TW                            Asustek Computer Inc     21.849289\n9910.TW                     Feng Tay Enterprises Co Ltd     18.244205\n2891.TW                   CTBC Financial Holding Co Ltd     17.750374\n2887.TW                Taishin Financial Holding Co Ltd     17.499745\n1402.TW                    Far Eastern New Century Corp     12.686529\n1216.TW                  Uni-President Enterprises Corp     12.161005\n3045.TW                            Taiwan Mobile Co Ltd     10.303193\n1301.TW                           Formosa Plastics Corp      7.659467\n2105.TW                   Cheng Shin Rubber Ind. Co Ltd      7.646495\n2474.TW                       Catcher Technology Co Ltd      7.145347\n2412.TW                         Chunghwa Telecom Co Ltd      6.620233\n1303.TW                            Nan Ya Plastics Corp      6.301370\n2881.TW                  Fubon Financial Holding Co Ltd      5.303040\n4904.TW           Far EasTone Telecommunications Co Ltd      5.106725\n2002.TW                                China Steel Corp      4.149378\n2883.TW        China Development Financial Holding Corp      3.645408\n2912.TW                      President Chain Store Corp      3.618414\n6505.TW                      Formosa Petrochemical Corp     -0.739963\n2882.TW                 Cathay Financial Holding Co Ltd     -3.503708\n2823.TW                     China Life Insurance Co Ltd     -6.612721\n1326.TW                  Formosa Chemicals & Fibre Corp     -6.689284",
      "text/html": "<div>\n<style scoped>\n    .dataframe tbody tr th:only-of-type {\n        vertical-align: middle;\n    }\n\n    .dataframe tbody tr th {\n        vertical-align: top;\n    }\n\n    .dataframe thead th {\n        text-align: right;\n    }\n</style>\n<table border=\"1\" class=\"dataframe\">\n  <thead>\n    <tr style=\"text-align: right;\">\n      <th></th>\n      <th>Company Common Name</th>\n      <th>Total Return</th>\n    </tr>\n    <tr>\n      <th>Instrument</th>\n      <th></th>\n      <th></th>\n    </tr>\n  </thead>\n  <tbody>\n    <tr>\n      <th>2207.TW</th>\n      <td>Hotai Motor Co Ltd</td>\n      <td>178.340081</td>\n    </tr>\n    <tr>\n      <th>6669.TW</th>\n      <td>Wiwynn Corp</td>\n      <td>134.851663</td>\n    </tr>\n    <tr>\n      <th>2454.TW</th>\n      <td>MediaTek Inc</td>\n      <td>105.965741</td>\n    </tr>\n    <tr>\n      <th>2408.TW</th>\n      <td>Nanya Technology Corp</td>\n      <td>75.144440</td>\n    </tr>\n    <tr>\n      <th>2327.TW</th>\n      <td>Yageo Corp</td>\n      <td>68.640499</td>\n    </tr>\n    <tr>\n      <th>3008.TW</th>\n      <td>LARGAN Precision Co Ltd</td>\n      <td>67.301380</td>\n    </tr>\n    <tr>\n      <th>2330.TW</th>\n      <td>Taiwan Semiconductor Manufacturing Co Ltd</td>\n      <td>61.972705</td>\n    </tr>\n    <tr>\n      <th>2303.TW</th>\n      <td>United Microelectronics Corp</td>\n      <td>55.381432</td>\n    </tr>\n    <tr>\n      <th>1102.TW</th>\n      <td>Asia Cement Corp</td>\n      <td>54.117185</td>\n    </tr>\n    <tr>\n      <th>2884.TW</th>\n      <td>E.SUN Financial Holding Co Ltd</td>\n      <td>52.695654</td>\n    </tr>\n    <tr>\n      <th>3711.TW</th>\n      <td>ASE Technology Holding Co Ltd</td>\n      <td>52.046849</td>\n    </tr>\n    <tr>\n      <th>5871.TW</th>\n      <td>Chailease Holding Company Ltd</td>\n      <td>48.844651</td>\n    </tr>\n    <tr>\n      <th>4938.TW</th>\n      <td>Pegatron Corp</td>\n      <td>46.052391</td>\n    </tr>\n    <tr>\n      <th>2395.TW</th>\n      <td>Advantech Co Ltd</td>\n      <td>45.209966</td>\n    </tr>\n    <tr>\n      <th>1101.TW</th>\n      <td>Taiwan Cement Corp</td>\n      <td>43.957017</td>\n    </tr>\n    <tr>\n      <th>2885.TW</th>\n      <td>Yuanta Financial Holdings Co Ltd</td>\n      <td>39.595312</td>\n    </tr>\n    <tr>\n      <th>2801.TW</th>\n      <td>Chang Hwa Commercial Bank Ltd</td>\n      <td>39.046978</td>\n    </tr>\n    <tr>\n      <th>5876.TW</th>\n      <td>Shanghai Commercial &amp; Savings Bank Ltd</td>\n      <td>38.060861</td>\n    </tr>\n    <tr>\n      <th>2880.TW</th>\n      <td>Hua Nan Financial Holdings Co Ltd</td>\n      <td>36.834319</td>\n    </tr>\n    <tr>\n      <th>2317.TW</th>\n      <td>Hon Hai Precision Industry Co Ltd</td>\n      <td>36.121063</td>\n    </tr>\n    <tr>\n      <th>2890.TW</th>\n      <td>Sinopac Financial Holdings Co Ltd</td>\n      <td>35.035573</td>\n    </tr>\n    <tr>\n      <th>2382.TW</th>\n      <td>Quanta Computer Inc</td>\n      <td>30.372374</td>\n    </tr>\n    <tr>\n      <th>2633.TW</th>\n      <td>Taiwan High Speed Rail Corp</td>\n      <td>30.021093</td>\n    </tr>\n    <tr>\n      <th>2301.TW</th>\n      <td>Lite-On Technology Corp</td>\n      <td>29.252210</td>\n    </tr>\n    <tr>\n      <th>2886.TW</th>\n      <td>Mega Financial Holding Co Ltd</td>\n      <td>27.284059</td>\n    </tr>\n    <tr>\n      <th>5880.TW</th>\n      <td>Taiwan Cooperative Financial Holding Co Ltd</td>\n      <td>26.529982</td>\n    </tr>\n    <tr>\n      <th>2892.TW</th>\n      <td>First Financial Holding Co Ltd</td>\n      <td>26.448324</td>\n    </tr>\n    <tr>\n      <th>2308.TW</th>\n      <td>Delta Electronics Inc</td>\n      <td>22.733045</td>\n    </tr>\n    <tr>\n      <th>2888.TW</th>\n      <td>Shin Kong Financial Holding Co Ltd</td>\n      <td>22.217374</td>\n    </tr>\n    <tr>\n      <th>2357.TW</th>\n      <td>Asustek Computer Inc</td>\n      <td>21.849289</td>\n    </tr>\n    <tr>\n      <th>9910.TW</th>\n      <td>Feng Tay Enterprises Co Ltd</td>\n      <td>18.244205</td>\n    </tr>\n    <tr>\n      <th>2891.TW</th>\n      <td>CTBC Financial Holding Co Ltd</td>\n      <td>17.750374</td>\n    </tr>\n    <tr>\n      <th>2887.TW</th>\n      <td>Taishin Financial Holding Co Ltd</td>\n      <td>17.499745</td>\n    </tr>\n    <tr>\n      <th>1402.TW</th>\n      <td>Far Eastern New Century Corp</td>\n      <td>12.686529</td>\n    </tr>\n    <tr>\n      <th>1216.TW</th>\n      <td>Uni-President Enterprises Corp</td>\n      <td>12.161005</td>\n    </tr>\n    <tr>\n      <th>3045.TW</th>\n      <td>Taiwan Mobile Co Ltd</td>\n      <td>10.303193</td>\n    </tr>\n    <tr>\n      <th>1301.TW</th>\n      <td>Formosa Plastics Corp</td>\n      <td>7.659467</td>\n    </tr>\n    <tr>\n      <th>2105.TW</th>\n      <td>Cheng Shin Rubber Ind. Co Ltd</td>\n      <td>7.646495</td>\n    </tr>\n    <tr>\n      <th>2474.TW</th>\n      <td>Catcher Technology Co Ltd</td>\n      <td>7.145347</td>\n    </tr>\n    <tr>\n      <th>2412.TW</th>\n      <td>Chunghwa Telecom Co Ltd</td>\n      <td>6.620233</td>\n    </tr>\n    <tr>\n      <th>1303.TW</th>\n      <td>Nan Ya Plastics Corp</td>\n      <td>6.301370</td>\n    </tr>\n    <tr>\n      <th>2881.TW</th>\n      <td>Fubon Financial Holding Co Ltd</td>\n      <td>5.303040</td>\n    </tr>\n    <tr>\n      <th>4904.TW</th>\n      <td>Far EasTone Telecommunications Co Ltd</td>\n      <td>5.106725</td>\n    </tr>\n    <tr>\n      <th>2002.TW</th>\n      <td>China Steel Corp</td>\n      <td>4.149378</td>\n    </tr>\n    <tr>\n      <th>2883.TW</th>\n      <td>China Development Financial Holding Corp</td>\n      <td>3.645408</td>\n    </tr>\n    <tr>\n      <th>2912.TW</th>\n      <td>President Chain Store Corp</td>\n      <td>3.618414</td>\n    </tr>\n    <tr>\n      <th>6505.TW</th>\n      <td>Formosa Petrochemical Corp</td>\n      <td>-0.739963</td>\n    </tr>\n    <tr>\n      <th>2882.TW</th>\n      <td>Cathay Financial Holding Co Ltd</td>\n      <td>-3.503708</td>\n    </tr>\n    <tr>\n      <th>2823.TW</th>\n      <td>China Life Insurance Co Ltd</td>\n      <td>-6.612721</td>\n    </tr>\n    <tr>\n      <th>1326.TW</th>\n      <td>Formosa Chemicals &amp; Fibre Corp</td>\n      <td>-6.689284</td>\n    </tr>\n  </tbody>\n</table>\n</div>"
     },
     "execution_count": 3,
     "metadata": {},
     "output_type": "execute_result"
    }
   ],
   "source": [
    "\"\"\"\"==============================================================================\n",
    "We then use 52wk performance as an indicator for Top10 and Worse10 performing stocks\n",
    "==================================================================================\"\"\"\n",
    "\n",
    "year_performance, err = ek.get_data(holdings_list, fields=['TR.CommonName', 'TR.TotalReturn(SDate=2019-01-02, EDate=2020-01-02)'])\n",
    "year_performance = year_performance.set_index('Instrument').sort_values('Total Return', ascending=False)\n",
    "year_performance"
   ],
   "metadata": {
    "collapsed": false,
    "pycharm": {
     "name": "#%%\n"
    }
   }
  },
  {
   "cell_type": "code",
   "execution_count": 4,
   "outputs": [
    {
     "name": "stderr",
     "output_type": "stream",
     "text": [
      "c:\\users\\user\\appdata\\local\\programs\\python\\python37-32\\lib\\site-packages\\eikon\\data_grid.py:247: FutureWarning: The pandas.np module is deprecated and will be removed from pandas in a future version. Import numpy directly instead\n",
      "  data = pd.np.array([[get_data_value(value) for value in row] for row in data_dict['data']])\n"
     ]
    },
    {
     "name": "stdout",
     "output_type": "stream",
     "text": [
      "Portfolio Return: 3.1633294183213145\n"
     ]
    }
   ],
   "source": [
    "Top10 = year_performance.head(10).index.to_list()\n",
    "Worse10 = year_performance.tail(10).index.to_list()\n",
    "\n",
    "# Holding period that we test on\n",
    "Top10_halfyear, err = ek.get_data(Top10, fields='TR.TotalReturn(SDate=2020-01-02, EDate=2020-06-26)')\n",
    "Worse10_halfyear, err = ek.get_data(Worse10, fields='TR.TotalReturn(SDate=2020-01-02, EDate=2020-06-26)')\n",
    "\n",
    "port_return = 0.05 * (Top10_halfyear['Total Return'].sum()) - 0.05 * (Worse10_halfyear['Total Return'].sum())\n",
    "\n",
    "print(f'Portfolio Return: {port_return}')"
   ],
   "metadata": {
    "collapsed": false,
    "pycharm": {
     "name": "#%%\n"
    }
   }
  }
 ],
 "metadata": {
  "kernelspec": {
   "display_name": "Python 3",
   "language": "python",
   "name": "python3"
  },
  "language_info": {
   "codemirror_mode": {
    "name": "ipython",
    "version": 2
   },
   "file_extension": ".py",
   "mimetype": "text/x-python",
   "name": "python",
   "nbconvert_exporter": "python",
   "pygments_lexer": "ipython2",
   "version": "2.7.6"
  }
 },
 "nbformat": 4,
 "nbformat_minor": 0
}